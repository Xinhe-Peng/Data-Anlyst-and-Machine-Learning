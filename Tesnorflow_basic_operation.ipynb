{
 "cells": [
  {
   "cell_type": "markdown",
   "metadata": {},
   "source": [
    "* a:Building the computational graph构建计算图\n",
    "* b:Running the computational graph运行计算图"
   ]
  },
  {
   "cell_type": "code",
   "execution_count": 1,
   "metadata": {
    "scrolled": true
   },
   "outputs": [
    {
     "name": "stderr",
     "output_type": "stream",
     "text": [
      "D:\\software\\Anaconda\\lib\\site-packages\\h5py\\__init__.py:36: FutureWarning: Conversion of the second argument of issubdtype from `float` to `np.floating` is deprecated. In future, it will be treated as `np.float64 == np.dtype(float).type`.\n",
      "  from ._conv import register_converters as _register_converters\n"
     ]
    }
   ],
   "source": [
    "import tensorflow as tf"
   ]
  },
  {
   "cell_type": "markdown",
   "metadata": {},
   "source": [
    "# Constant, Placeholder & Variable\n",
    "* different types of graph input"
   ]
  },
  {
   "cell_type": "code",
   "execution_count": 8,
   "metadata": {},
   "outputs": [
    {
     "name": "stdout",
     "output_type": "stream",
     "text": [
      "Tensor(\"Const_6:0\", shape=(), dtype=int32) Tensor(\"Const_7:0\", shape=(), dtype=int32)\n"
     ]
    }
   ],
   "source": [
    "#Basic constant operation\n",
    "#values that can be changed\n",
    "a = tf.constant(2, dtype=tf.int32)\n",
    "b = tf.constant(3)\n",
    "print(a,b)"
   ]
  },
  {
   "cell_type": "code",
   "execution_count": 9,
   "metadata": {},
   "outputs": [
    {
     "name": "stdout",
     "output_type": "stream",
     "text": [
      "[2, 3]\n"
     ]
    }
   ],
   "source": [
    "#Use Session function to show the value\n",
    "sess = tf.Session()\n",
    "print(sess.run([a, b]))"
   ]
  },
  {
   "cell_type": "code",
   "execution_count": 12,
   "metadata": {},
   "outputs": [
    {
     "name": "stdout",
     "output_type": "stream",
     "text": [
      "add a, b:  5  or  5\n",
      "multiply a, b:  6\n"
     ]
    }
   ],
   "source": [
    "#Add and multiply\n",
    "print('add a, b: ', sess.run(a+b), ' or ', sess.run(tf.add(a, b)))\n",
    "print('multiply a, b: ', sess.run(a*b))"
   ]
  },
  {
   "cell_type": "code",
   "execution_count": 13,
   "metadata": {},
   "outputs": [],
   "source": [
    "#Basic placeholder operation\n",
    "#initialize setting without values (need to be fed when session runs)\n",
    "a = tf.placeholder(tf.int16)\n",
    "b = tf.placeholder(tf.int16)"
   ]
  },
  {
   "cell_type": "code",
   "execution_count": 15,
   "metadata": {},
   "outputs": [],
   "source": [
    "#define operations\n",
    "add = a+b #or tf.add(a, b)\n",
    "mul = a*b #or tf.multiply(a, b)"
   ]
  },
  {
   "cell_type": "code",
   "execution_count": 16,
   "metadata": {},
   "outputs": [
    {
     "name": "stdout",
     "output_type": "stream",
     "text": [
      "a+b:  5\n",
      "a*b:  6\n"
     ]
    }
   ],
   "source": [
    "#run session with input\n",
    "#feed the placeholders like dictionary type\n",
    "print('a+b: ', sess.run(add, feed_dict={a:2, b:3}))\n",
    "print('a*b: ', sess.run(mul, feed_dict={a:2, b:3}))"
   ]
  },
  {
   "cell_type": "code",
   "execution_count": 17,
   "metadata": {},
   "outputs": [
    {
     "name": "stdout",
     "output_type": "stream",
     "text": [
      "test a+b:  5\n"
     ]
    }
   ],
   "source": [
    "print('test a+b: ', sess.run(a+b, feed_dict={a:2, b:3}))"
   ]
  },
  {
   "cell_type": "code",
   "execution_count": 20,
   "metadata": {},
   "outputs": [],
   "source": [
    "#Basic variable operation\n",
    "#values that can be changed\n",
    "w = tf.Variable([.3], dtype=tf.float32)\n",
    "b = tf.Variable([-.3], dtype=tf.float32)\n",
    "x = tf.placeholder(tf.float32)"
   ]
  },
  {
   "cell_type": "code",
   "execution_count": 21,
   "metadata": {},
   "outputs": [],
   "source": [
    "#build a simple model (x is waiting for inputs) and initialize\n",
    "linear_model = w*x+b\n",
    "init = tf.global_variables_initializer()\n",
    "sess.run(init)"
   ]
  },
  {
   "cell_type": "code",
   "execution_count": 23,
   "metadata": {},
   "outputs": [
    {
     "name": "stdout",
     "output_type": "stream",
     "text": [
      "[0.3        0.90000004 1.5        2.1000001 ]\n"
     ]
    }
   ],
   "source": [
    "print(sess.run(linear_model, feed_dict={x:[2,4,6,8]}))"
   ]
  },
  {
   "cell_type": "code",
   "execution_count": 19,
   "metadata": {},
   "outputs": [
    {
     "name": "stdout",
     "output_type": "stream",
     "text": [
      "40\n"
     ]
    }
   ],
   "source": [
    "a = tf.constant(35, name='a')\n",
    "b = tf.Variable(a+5, name='b')\n",
    "with tf.Session() as session:\n",
    "    merged = tf.summary.merge_all()\n",
    "    writer = tf.summary.FileWriter('C:\\\\Users\\\\blankblock\\\\Desktop\\\\test', session.graph)\n",
    "    model = tf.global_variables_initializer()\n",
    "    session.run(model)\n",
    "    print(session.run(b))"
   ]
  },
  {
   "cell_type": "markdown",
   "metadata": {},
   "source": [
    "### Extra: Matrix Multiplication"
   ]
  },
  {
   "cell_type": "code",
   "execution_count": 24,
   "metadata": {},
   "outputs": [],
   "source": [
    "matrix1 = tf.constant([[3., 3.]])\n",
    "matrix2 = tf.constant([[2.], [2.]])\n",
    "multi = tf.matmul(matrix1, matrix2)"
   ]
  },
  {
   "cell_type": "code",
   "execution_count": 25,
   "metadata": {},
   "outputs": [
    {
     "name": "stdout",
     "output_type": "stream",
     "text": [
      "[[12.]]\n"
     ]
    }
   ],
   "source": [
    "print(sess.run(multi))"
   ]
  }
 ],
 "metadata": {
  "kernelspec": {
   "display_name": "Python 3",
   "language": "python",
   "name": "python3"
  },
  "language_info": {
   "codemirror_mode": {
    "name": "ipython",
    "version": 3
   },
   "file_extension": ".py",
   "mimetype": "text/x-python",
   "name": "python",
   "nbconvert_exporter": "python",
   "pygments_lexer": "ipython3",
   "version": "3.6.4"
  }
 },
 "nbformat": 4,
 "nbformat_minor": 2
}
